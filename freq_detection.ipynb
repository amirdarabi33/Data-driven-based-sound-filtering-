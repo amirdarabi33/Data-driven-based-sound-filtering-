{
 "cells": [
  {
   "cell_type": "code",
   "execution_count": 2,
   "metadata": {},
   "outputs": [
    {
     "name": "stderr",
     "output_type": "stream",
     "text": [
      "C:\\Users\\adarabi3\\AppData\\Local\\Programs\\Python\\Python310\\lib\\site-packages\\keras\\backend.py:450: UserWarning: `tf.keras.backend.set_learning_phase` is deprecated and will be removed after 2020-10-11. To update it, simply pass a True/False value to the `training` argument of the `__call__` method of your layer or model.\n",
      "  warnings.warn('`tf.keras.backend.set_learning_phase` is deprecated and '\n"
     ]
    }
   ],
   "source": [
    "from keras import layers\n",
    "from keras import regularizers\n",
    "from keras.layers import Input, Add, Dense, Activation, BatchNormalization, Dropout, Flatten, Conv1D, AveragePooling1D, MaxPooling1D, concatenate, Conv1DTranspose\n",
    "from keras.models import Model, load_model\n",
    "from keras.preprocessing import image\n",
    "from keras.utils import layer_utils\n",
    "from keras.utils.data_utils import get_file\n",
    "from keras.applications.imagenet_utils import preprocess_input\n",
    "import pydot\n",
    "from IPython.display import SVG\n",
    "from sklearn.model_selection import train_test_split\n",
    "import random\n",
    "from keras.utils.vis_utils import model_to_dot\n",
    "from keras.utils.vis_utils import plot_model\n",
    "from keras.initializers import glorot_uniform\n",
    "from matplotlib.pyplot import imshow\n",
    "import pandas as pd\n",
    "import os\n",
    "import openpyxl as xls\n",
    "from keras import backend as k\n",
    "import cv2\n",
    "import tensorflow as tf\n",
    "from keras.callbacks import LearningRateScheduler\n",
    "import numpy as np\n",
    "import imageio\n",
    "import matplotlib.pyplot as plt\n",
    "%matplotlib inline\n",
    "tf.compat.v1.enable_eager_execution()\n",
    "import keras.backend as K\n",
    "K.set_image_data_format('channels_last')\n",
    "K.set_learning_phase(1)"
   ]
  },
  {
   "cell_type": "code",
   "execution_count": 3,
   "metadata": {},
   "outputs": [],
   "source": [
    "X = pd.read_csv(\"one_speaker_pressure.csv\")\n",
    "Y= pd.read_csv(\"one_speaker_value.csv\")"
   ]
  },
  {
   "cell_type": "code",
   "execution_count": 4,
   "metadata": {},
   "outputs": [
    {
     "name": "stdout",
     "output_type": "stream",
     "text": [
      "0.3\n",
      "0.18\n",
      "(20000, 64, 2)\n",
      "(20000, 2)\n"
     ]
    }
   ],
   "source": [
    "X=X[0:20000]\n",
    "Y=Y[0:20000]\n",
    "X_data = X.to_numpy()\n",
    "Y_data = Y.to_numpy()\n",
    "print(max(Y_data[200]))\n",
    "print(min(X_data[200]))\n",
    "\n",
    "X_data=X_data.reshape(-1,64,2)\n",
    "\n",
    "\n",
    "print(X_data.shape)\n",
    "print(Y_data.shape)\n"
   ]
  },
  {
   "cell_type": "code",
   "execution_count": 5,
   "metadata": {},
   "outputs": [],
   "source": [
    "def convert_to_one_hot(Y):\n",
    "    n_values = np.max(Y)+1\n",
    "    return np.squeeze(np.eye(n_values)[Y.reshape(-1)])"
   ]
  },
  {
   "cell_type": "code",
   "execution_count": 26,
   "metadata": {},
   "outputs": [
    {
     "name": "stdout",
     "output_type": "stream",
     "text": [
      "(17000, 64, 2)\n",
      "(3000, 64, 2)\n",
      "(17000, 2)\n",
      "(3000, 2)\n"
     ]
    }
   ],
   "source": [
    "x_train, x_test, y_train, y_test = train_test_split(X_data, Y_data, test_size=0.15, random_state=42)\n",
    "print(x_train.shape)\n",
    "print(x_test.shape)\n",
    "print(y_train.shape)\n",
    "print(y_test.shape)"
   ]
  },
  {
   "cell_type": "code",
   "execution_count": 7,
   "metadata": {},
   "outputs": [],
   "source": [
    "def conv_block(inputs=None, n_filters=32, dropout_prob=0, max_pooling=True):\n",
    "\n",
    "    X_shortcut = inputs\n",
    "    \n",
    "    conv = Conv1D(n_filters, # Number of filters\n",
    "                  4,# Kernel size   \n",
    "                  padding='same',\n",
    "                  kernel_initializer= 'he_normal')(inputs)\n",
    "    conv = BatchNormalization(axis=2)(conv)\n",
    "    conv = Activation('relu')(conv)\n",
    "    \n",
    "    conv = Conv1D(n_filters, # Number of filters\n",
    "                  4,# Kernel size   \n",
    "                  padding='same',\n",
    "                  kernel_initializer= 'he_normal')(conv)\n",
    "    conv = BatchNormalization(axis=2)(conv)\n",
    "\n",
    "    X_shortcut = Conv1D(n_filters, # Number of filters\n",
    "                  4,# Kernel size   \n",
    "                  padding='same',\n",
    "                  kernel_initializer= 'he_normal')(X_shortcut)\n",
    "    X_shortcut = BatchNormalization(axis=2)(X_shortcut)\n",
    "\n",
    "\n",
    "    conv = Add()([conv, X_shortcut])\n",
    "    conv = Activation('relu')(conv)\n",
    "    \n",
    "    \n",
    "    # if dropout_prob > 0 add a dropout layer, with the variable dropout_prob as parameter\n",
    "    if dropout_prob > 0:\n",
    "        conv = Dropout(dropout_prob)(conv)\n",
    "         \n",
    "    # if max_pooling is True add a MaxPooling2D with 2x2 pool_size\n",
    "    if max_pooling:\n",
    "        next_layer = MaxPooling1D(2,strides=2)(conv)\n",
    "        \n",
    "    else:\n",
    "        next_layer = conv\n",
    "        \n",
    "    skip_connection = conv\n",
    "    \n",
    "    return next_layer, skip_connection"
   ]
  },
  {
   "cell_type": "code",
   "execution_count": 8,
   "metadata": {},
   "outputs": [],
   "source": [
    "def upsampling_block(expansive_input, contractive_input, n_filters=32):\n",
    "    \n",
    "    up = Conv1DTranspose(\n",
    "                 n_filters,# number of filters\n",
    "                 4,# Kernel size\n",
    "                 strides=2,\n",
    "                 padding='same')(expansive_input)\n",
    "    \n",
    "    # Merge the previous output and the contractive_input\n",
    "    merge = concatenate([up, contractive_input], axis=2)\n",
    "    \n",
    "    conv = Conv1D(n_filters, # Number of filters\n",
    "                  4,# Kernel size   \n",
    "                  padding='same',\n",
    "                  kernel_initializer= 'he_normal')(merge)\n",
    "    conv = BatchNormalization(axis=2)(conv)\n",
    "    conv = Activation('relu')(conv)\n",
    "    \n",
    "    conv = Conv1D(n_filters, # Number of filters\n",
    "                  4,# Kernel size   \n",
    "                  padding='same',\n",
    "                  kernel_initializer= 'he_normal')(conv)\n",
    "    \n",
    "    return conv"
   ]
  },
  {
   "cell_type": "code",
   "execution_count": 12,
   "metadata": {},
   "outputs": [],
   "source": [
    "def Sound_beaming(input_shape = (160, 3), f1=16,C1 = 75):\n",
    "    \n",
    "    # Define the input as a tensor with shape input_shape\n",
    "    X_input = Input(input_shape)\n",
    "\n",
    "    \n",
    "    # Stage 1\n",
    "    cblock1 = conv_block(inputs=X_input, n_filters=f1*1)   #80*f1\n",
    "    cblock2 = conv_block(inputs=cblock1[0], n_filters=f1*2)  #40*(2f1)\n",
    "    cblock3 = conv_block(inputs=cblock2[0], n_filters=f1*4)   #20*(4f1)\n",
    "    cblock4 = conv_block(inputs=cblock3[0], n_filters=f1*8,dropout_prob=0.3)    #10*(8f1)\n",
    "    cblock5 = conv_block(inputs=cblock4[0], n_filters=f1*16,dropout_prob=0.3,max_pooling=False)    #5*(16f1)\n",
    "\n",
    "\n",
    "    # Stage 2\n",
    "    ublock6 = upsampling_block(cblock5[0], cblock4[1], f1*8)    \n",
    "    ublock7 = upsampling_block(ublock6, cblock3[1], f1*4)\n",
    "    ublock8 = upsampling_block(ublock7, cblock2[1], f1*2)\n",
    "    ublock9 = upsampling_block(ublock8, cblock1[1], f1*1)\n",
    "\n",
    "    X = Conv1D(C1,\n",
    "                 3,\n",
    "                 activation='sigmoid',\n",
    "                 padding='same',\n",
    "                 kernel_initializer='he_normal',\n",
    "                 kernel_regularizer=tf.keras.regularizers.l2(0.05))(ublock9)\n",
    "\n",
    "\n",
    "    # output layer\n",
    "    # X = Flatten()(ublock9)\n",
    "    # X = Dense(C1, activation='sigmoid', name='fc' + str(C1), kernel_regularizer=tf.keras.regularizers.l2(0.05))(X)\n",
    "    # Create model\n",
    "    model = Model(inputs = X_input, outputs = X, name='Sound_beaming')\n",
    "\n",
    "    return model\n",
    "\n"
   ]
  },
  {
   "cell_type": "code",
   "execution_count": 9,
   "metadata": {},
   "outputs": [],
   "source": [
    "learn_rate=0.001\n",
    "rate=1/50\n",
    "def decay_fun(epoch):\n",
    "    lrate=learn_rate*np.exp(-rate*epoch)\n",
    "    if lrate<5e-4:\n",
    "        lrate=5e-4\n",
    "    return lrate\n",
    "    "
   ]
  },
  {
   "cell_type": "code",
   "execution_count": 10,
   "metadata": {},
   "outputs": [],
   "source": [
    "lerate=LearningRateScheduler(decay_fun)\n",
    "callback_list=[lerate]"
   ]
  },
  {
   "cell_type": "code",
   "execution_count": 21,
   "metadata": {},
   "outputs": [],
   "source": [
    "model = Sound_beaming(input_shape = (64,2), f1=8, C1=2)"
   ]
  },
  {
   "cell_type": "code",
   "execution_count": 14,
   "metadata": {},
   "outputs": [],
   "source": [
    "from keras import backend as K\n",
    "\n",
    "def coeff_determination(y_true, y_pred):\n",
    "    SS_res =  K.sum(K.square( y_true-y_pred )) \n",
    "    SS_tot = K.sum(K.square( y_true - K.mean(y_true) ) ) \n",
    "    return ( 1 - SS_res/(SS_tot + K.epsilon()) )"
   ]
  },
  {
   "cell_type": "code",
   "execution_count": 27,
   "metadata": {},
   "outputs": [],
   "source": [
    "model.compile(tf.keras.optimizers.Adam(), loss=tf.keras.losses.MeanAbsoluteError(), metrics=['accuracy'])"
   ]
  },
  {
   "cell_type": "code",
   "execution_count": 16,
   "metadata": {},
   "outputs": [
    {
     "name": "stdout",
     "output_type": "stream",
     "text": [
      "Model: \"Sound_beaming\"\n",
      "__________________________________________________________________________________________________\n",
      " Layer (type)                   Output Shape         Param #     Connected to                     \n",
      "==================================================================================================\n",
      " input_1 (InputLayer)           [(None, 64, 3)]      0           []                               \n",
      "                                                                                                  \n",
      " conv1d (Conv1D)                (None, 64, 8)        104         ['input_1[0][0]']                \n",
      "                                                                                                  \n",
      " batch_normalization (BatchNorm  (None, 64, 8)       32          ['conv1d[0][0]']                 \n",
      " alization)                                                                                       \n",
      "                                                                                                  \n",
      " activation (Activation)        (None, 64, 8)        0           ['batch_normalization[0][0]']    \n",
      "                                                                                                  \n",
      " conv1d_1 (Conv1D)              (None, 64, 8)        264         ['activation[0][0]']             \n",
      "                                                                                                  \n",
      " conv1d_2 (Conv1D)              (None, 64, 8)        104         ['input_1[0][0]']                \n",
      "                                                                                                  \n",
      " batch_normalization_1 (BatchNo  (None, 64, 8)       32          ['conv1d_1[0][0]']               \n",
      " rmalization)                                                                                     \n",
      "                                                                                                  \n",
      " batch_normalization_2 (BatchNo  (None, 64, 8)       32          ['conv1d_2[0][0]']               \n",
      " rmalization)                                                                                     \n",
      "                                                                                                  \n",
      " add (Add)                      (None, 64, 8)        0           ['batch_normalization_1[0][0]',  \n",
      "                                                                  'batch_normalization_2[0][0]']  \n",
      "                                                                                                  \n",
      " activation_1 (Activation)      (None, 64, 8)        0           ['add[0][0]']                    \n",
      "                                                                                                  \n",
      " max_pooling1d (MaxPooling1D)   (None, 32, 8)        0           ['activation_1[0][0]']           \n",
      "                                                                                                  \n",
      " conv1d_3 (Conv1D)              (None, 32, 16)       528         ['max_pooling1d[0][0]']          \n",
      "                                                                                                  \n",
      " batch_normalization_3 (BatchNo  (None, 32, 16)      64          ['conv1d_3[0][0]']               \n",
      " rmalization)                                                                                     \n",
      "                                                                                                  \n",
      " activation_2 (Activation)      (None, 32, 16)       0           ['batch_normalization_3[0][0]']  \n",
      "                                                                                                  \n",
      " conv1d_4 (Conv1D)              (None, 32, 16)       1040        ['activation_2[0][0]']           \n",
      "                                                                                                  \n",
      " conv1d_5 (Conv1D)              (None, 32, 16)       528         ['max_pooling1d[0][0]']          \n",
      "                                                                                                  \n",
      " batch_normalization_4 (BatchNo  (None, 32, 16)      64          ['conv1d_4[0][0]']               \n",
      " rmalization)                                                                                     \n",
      "                                                                                                  \n",
      " batch_normalization_5 (BatchNo  (None, 32, 16)      64          ['conv1d_5[0][0]']               \n",
      " rmalization)                                                                                     \n",
      "                                                                                                  \n",
      " add_1 (Add)                    (None, 32, 16)       0           ['batch_normalization_4[0][0]',  \n",
      "                                                                  'batch_normalization_5[0][0]']  \n",
      "                                                                                                  \n",
      " activation_3 (Activation)      (None, 32, 16)       0           ['add_1[0][0]']                  \n",
      "                                                                                                  \n",
      " max_pooling1d_1 (MaxPooling1D)  (None, 16, 16)      0           ['activation_3[0][0]']           \n",
      "                                                                                                  \n",
      " conv1d_6 (Conv1D)              (None, 16, 32)       2080        ['max_pooling1d_1[0][0]']        \n",
      "                                                                                                  \n",
      " batch_normalization_6 (BatchNo  (None, 16, 32)      128         ['conv1d_6[0][0]']               \n",
      " rmalization)                                                                                     \n",
      "                                                                                                  \n",
      " activation_4 (Activation)      (None, 16, 32)       0           ['batch_normalization_6[0][0]']  \n",
      "                                                                                                  \n",
      " conv1d_7 (Conv1D)              (None, 16, 32)       4128        ['activation_4[0][0]']           \n",
      "                                                                                                  \n",
      " conv1d_8 (Conv1D)              (None, 16, 32)       2080        ['max_pooling1d_1[0][0]']        \n",
      "                                                                                                  \n",
      " batch_normalization_7 (BatchNo  (None, 16, 32)      128         ['conv1d_7[0][0]']               \n",
      " rmalization)                                                                                     \n",
      "                                                                                                  \n",
      " batch_normalization_8 (BatchNo  (None, 16, 32)      128         ['conv1d_8[0][0]']               \n",
      " rmalization)                                                                                     \n",
      "                                                                                                  \n",
      " add_2 (Add)                    (None, 16, 32)       0           ['batch_normalization_7[0][0]',  \n",
      "                                                                  'batch_normalization_8[0][0]']  \n",
      "                                                                                                  \n",
      " activation_5 (Activation)      (None, 16, 32)       0           ['add_2[0][0]']                  \n",
      "                                                                                                  \n",
      " max_pooling1d_2 (MaxPooling1D)  (None, 8, 32)       0           ['activation_5[0][0]']           \n",
      "                                                                                                  \n",
      " conv1d_9 (Conv1D)              (None, 8, 64)        8256        ['max_pooling1d_2[0][0]']        \n",
      "                                                                                                  \n",
      " batch_normalization_9 (BatchNo  (None, 8, 64)       256         ['conv1d_9[0][0]']               \n",
      " rmalization)                                                                                     \n",
      "                                                                                                  \n",
      " activation_6 (Activation)      (None, 8, 64)        0           ['batch_normalization_9[0][0]']  \n",
      "                                                                                                  \n",
      " conv1d_10 (Conv1D)             (None, 8, 64)        16448       ['activation_6[0][0]']           \n",
      "                                                                                                  \n",
      " conv1d_11 (Conv1D)             (None, 8, 64)        8256        ['max_pooling1d_2[0][0]']        \n",
      "                                                                                                  \n",
      " batch_normalization_10 (BatchN  (None, 8, 64)       256         ['conv1d_10[0][0]']              \n",
      " ormalization)                                                                                    \n",
      "                                                                                                  \n",
      " batch_normalization_11 (BatchN  (None, 8, 64)       256         ['conv1d_11[0][0]']              \n",
      " ormalization)                                                                                    \n",
      "                                                                                                  \n",
      " add_3 (Add)                    (None, 8, 64)        0           ['batch_normalization_10[0][0]', \n",
      "                                                                  'batch_normalization_11[0][0]'] \n",
      "                                                                                                  \n",
      " activation_7 (Activation)      (None, 8, 64)        0           ['add_3[0][0]']                  \n",
      "                                                                                                  \n",
      " dropout (Dropout)              (None, 8, 64)        0           ['activation_7[0][0]']           \n",
      "                                                                                                  \n",
      " max_pooling1d_3 (MaxPooling1D)  (None, 4, 64)       0           ['dropout[0][0]']                \n",
      "                                                                                                  \n",
      " conv1d_12 (Conv1D)             (None, 4, 128)       32896       ['max_pooling1d_3[0][0]']        \n",
      "                                                                                                  \n",
      " batch_normalization_12 (BatchN  (None, 4, 128)      512         ['conv1d_12[0][0]']              \n",
      " ormalization)                                                                                    \n",
      "                                                                                                  \n",
      " activation_8 (Activation)      (None, 4, 128)       0           ['batch_normalization_12[0][0]'] \n",
      "                                                                                                  \n",
      " conv1d_13 (Conv1D)             (None, 4, 128)       65664       ['activation_8[0][0]']           \n",
      "                                                                                                  \n",
      " conv1d_14 (Conv1D)             (None, 4, 128)       32896       ['max_pooling1d_3[0][0]']        \n",
      "                                                                                                  \n",
      " batch_normalization_13 (BatchN  (None, 4, 128)      512         ['conv1d_13[0][0]']              \n",
      " ormalization)                                                                                    \n",
      "                                                                                                  \n",
      " batch_normalization_14 (BatchN  (None, 4, 128)      512         ['conv1d_14[0][0]']              \n",
      " ormalization)                                                                                    \n",
      "                                                                                                  \n",
      " add_4 (Add)                    (None, 4, 128)       0           ['batch_normalization_13[0][0]', \n",
      "                                                                  'batch_normalization_14[0][0]'] \n",
      "                                                                                                  \n",
      " activation_9 (Activation)      (None, 4, 128)       0           ['add_4[0][0]']                  \n",
      "                                                                                                  \n",
      " dropout_1 (Dropout)            (None, 4, 128)       0           ['activation_9[0][0]']           \n",
      "                                                                                                  \n",
      " conv1d_transpose (Conv1DTransp  (None, 8, 64)       32832       ['dropout_1[0][0]']              \n",
      " ose)                                                                                             \n",
      "                                                                                                  \n",
      " concatenate (Concatenate)      (None, 8, 128)       0           ['conv1d_transpose[0][0]',       \n",
      "                                                                  'dropout[0][0]']                \n",
      "                                                                                                  \n",
      " conv1d_15 (Conv1D)             (None, 8, 64)        32832       ['concatenate[0][0]']            \n",
      "                                                                                                  \n",
      " batch_normalization_15 (BatchN  (None, 8, 64)       256         ['conv1d_15[0][0]']              \n",
      " ormalization)                                                                                    \n",
      "                                                                                                  \n",
      " activation_10 (Activation)     (None, 8, 64)        0           ['batch_normalization_15[0][0]'] \n",
      "                                                                                                  \n",
      " conv1d_16 (Conv1D)             (None, 8, 64)        16448       ['activation_10[0][0]']          \n",
      "                                                                                                  \n",
      " conv1d_transpose_1 (Conv1DTran  (None, 16, 32)      8224        ['conv1d_16[0][0]']              \n",
      " spose)                                                                                           \n",
      "                                                                                                  \n",
      " concatenate_1 (Concatenate)    (None, 16, 64)       0           ['conv1d_transpose_1[0][0]',     \n",
      "                                                                  'activation_5[0][0]']           \n",
      "                                                                                                  \n",
      " conv1d_17 (Conv1D)             (None, 16, 32)       8224        ['concatenate_1[0][0]']          \n",
      "                                                                                                  \n",
      " batch_normalization_16 (BatchN  (None, 16, 32)      128         ['conv1d_17[0][0]']              \n",
      " ormalization)                                                                                    \n",
      "                                                                                                  \n",
      " activation_11 (Activation)     (None, 16, 32)       0           ['batch_normalization_16[0][0]'] \n",
      "                                                                                                  \n",
      " conv1d_18 (Conv1D)             (None, 16, 32)       4128        ['activation_11[0][0]']          \n",
      "                                                                                                  \n",
      " conv1d_transpose_2 (Conv1DTran  (None, 32, 16)      2064        ['conv1d_18[0][0]']              \n",
      " spose)                                                                                           \n",
      "                                                                                                  \n",
      " concatenate_2 (Concatenate)    (None, 32, 32)       0           ['conv1d_transpose_2[0][0]',     \n",
      "                                                                  'activation_3[0][0]']           \n",
      "                                                                                                  \n",
      " conv1d_19 (Conv1D)             (None, 32, 16)       2064        ['concatenate_2[0][0]']          \n",
      "                                                                                                  \n",
      " batch_normalization_17 (BatchN  (None, 32, 16)      64          ['conv1d_19[0][0]']              \n",
      " ormalization)                                                                                    \n",
      "                                                                                                  \n",
      " activation_12 (Activation)     (None, 32, 16)       0           ['batch_normalization_17[0][0]'] \n",
      "                                                                                                  \n",
      " conv1d_20 (Conv1D)             (None, 32, 16)       1040        ['activation_12[0][0]']          \n",
      "                                                                                                  \n",
      " conv1d_transpose_3 (Conv1DTran  (None, 64, 8)       520         ['conv1d_20[0][0]']              \n",
      " spose)                                                                                           \n",
      "                                                                                                  \n",
      " concatenate_3 (Concatenate)    (None, 64, 16)       0           ['conv1d_transpose_3[0][0]',     \n",
      "                                                                  'activation_1[0][0]']           \n",
      "                                                                                                  \n",
      " conv1d_21 (Conv1D)             (None, 64, 8)        520         ['concatenate_3[0][0]']          \n",
      "                                                                                                  \n",
      " batch_normalization_18 (BatchN  (None, 64, 8)       32          ['conv1d_21[0][0]']              \n",
      " ormalization)                                                                                    \n",
      "                                                                                                  \n",
      " activation_13 (Activation)     (None, 64, 8)        0           ['batch_normalization_18[0][0]'] \n",
      "                                                                                                  \n",
      " conv1d_22 (Conv1D)             (None, 64, 8)        264         ['activation_13[0][0]']          \n",
      "                                                                                                  \n",
      " conv1d_23 (Conv1D)             (None, 64, 3)        75          ['conv1d_22[0][0]']              \n",
      "                                                                                                  \n",
      "==================================================================================================\n",
      "Total params: 287,963\n",
      "Trainable params: 286,235\n",
      "Non-trainable params: 1,728\n",
      "__________________________________________________________________________________________________\n"
     ]
    }
   ],
   "source": [
    "model.summary()"
   ]
  },
  {
   "cell_type": "code",
   "execution_count": 23,
   "metadata": {},
   "outputs": [
    {
     "name": "stdout",
     "output_type": "stream",
     "text": [
      "Epoch 1/50\n",
      "67/67 [==============================] - 8s 71ms/step - loss: 0.1808 - accuracy: 0.6892 - val_loss: 0.2856 - val_accuracy: 0.4989 - lr: 0.0010\n",
      "Epoch 2/50\n",
      "67/67 [==============================] - 4s 65ms/step - loss: 0.1056 - accuracy: 0.8361 - val_loss: 0.1850 - val_accuracy: 0.5124 - lr: 9.8020e-04\n",
      "Epoch 3/50\n",
      "67/67 [==============================] - 4s 65ms/step - loss: 0.0731 - accuracy: 0.8894 - val_loss: 0.1320 - val_accuracy: 0.6243 - lr: 9.6079e-04\n",
      "Epoch 4/50\n",
      "67/67 [==============================] - 4s 66ms/step - loss: 0.0526 - accuracy: 0.9126 - val_loss: 0.0944 - val_accuracy: 0.7367 - lr: 9.4176e-04\n",
      "Epoch 5/50\n",
      "67/67 [==============================] - 4s 67ms/step - loss: 0.0387 - accuracy: 0.9248 - val_loss: 0.0698 - val_accuracy: 0.8498 - lr: 9.2312e-04\n",
      "Epoch 6/50\n",
      "67/67 [==============================] - 5s 69ms/step - loss: 0.0291 - accuracy: 0.9341 - val_loss: 0.0508 - val_accuracy: 0.9239 - lr: 9.0484e-04\n",
      "Epoch 7/50\n",
      "67/67 [==============================] - 4s 67ms/step - loss: 0.0231 - accuracy: 0.9429 - val_loss: 0.0336 - val_accuracy: 0.9560 - lr: 8.8692e-04\n",
      "Epoch 8/50\n",
      "67/67 [==============================] - 4s 67ms/step - loss: 0.0179 - accuracy: 0.9481 - val_loss: 0.0240 - val_accuracy: 0.9546 - lr: 8.6936e-04\n",
      "Epoch 9/50\n",
      "67/67 [==============================] - 4s 66ms/step - loss: 0.0148 - accuracy: 0.9523 - val_loss: 0.0164 - val_accuracy: 0.9633 - lr: 8.5214e-04\n",
      "Epoch 10/50\n",
      "67/67 [==============================] - 4s 66ms/step - loss: 0.0124 - accuracy: 0.9557 - val_loss: 0.0141 - val_accuracy: 0.9625 - lr: 8.3527e-04\n",
      "Epoch 11/50\n",
      "67/67 [==============================] - 4s 66ms/step - loss: 0.0110 - accuracy: 0.9563 - val_loss: 0.0114 - val_accuracy: 0.9653 - lr: 8.1873e-04\n",
      "Epoch 12/50\n",
      "67/67 [==============================] - 4s 66ms/step - loss: 0.0097 - accuracy: 0.9582 - val_loss: 0.0100 - val_accuracy: 0.9682 - lr: 8.0252e-04\n",
      "Epoch 13/50\n",
      "67/67 [==============================] - 4s 65ms/step - loss: 0.0087 - accuracy: 0.9582 - val_loss: 0.0084 - val_accuracy: 0.9643 - lr: 7.8663e-04\n",
      "Epoch 14/50\n",
      "67/67 [==============================] - 4s 66ms/step - loss: 0.0082 - accuracy: 0.9580 - val_loss: 0.0075 - val_accuracy: 0.9650 - lr: 7.7105e-04\n",
      "Epoch 15/50\n",
      "67/67 [==============================] - 4s 67ms/step - loss: 0.0076 - accuracy: 0.9577 - val_loss: 0.0072 - val_accuracy: 0.9623 - lr: 7.5578e-04\n",
      "Epoch 16/50\n",
      "67/67 [==============================] - 4s 66ms/step - loss: 0.0075 - accuracy: 0.9565 - val_loss: 0.0065 - val_accuracy: 0.9556 - lr: 7.4082e-04\n",
      "Epoch 17/50\n",
      "67/67 [==============================] - 4s 66ms/step - loss: 0.0067 - accuracy: 0.9562 - val_loss: 0.0059 - val_accuracy: 0.9562 - lr: 7.2615e-04\n",
      "Epoch 18/50\n",
      "67/67 [==============================] - 4s 65ms/step - loss: 0.0063 - accuracy: 0.9549 - val_loss: 0.0056 - val_accuracy: 0.9542 - lr: 7.1177e-04\n",
      "Epoch 19/50\n",
      "67/67 [==============================] - 5s 70ms/step - loss: 0.0062 - accuracy: 0.9538 - val_loss: 0.0055 - val_accuracy: 0.9550 - lr: 6.9768e-04\n",
      "Epoch 20/50\n",
      "67/67 [==============================] - 5s 68ms/step - loss: 0.0060 - accuracy: 0.9533 - val_loss: 0.0056 - val_accuracy: 0.9567 - lr: 6.8386e-04\n",
      "Epoch 21/50\n",
      "67/67 [==============================] - 4s 66ms/step - loss: 0.0059 - accuracy: 0.9534 - val_loss: 0.0052 - val_accuracy: 0.9567 - lr: 6.7032e-04\n",
      "Epoch 22/50\n",
      "67/67 [==============================] - 5s 68ms/step - loss: 0.0057 - accuracy: 0.9526 - val_loss: 0.0057 - val_accuracy: 0.9543 - lr: 6.5705e-04\n",
      "Epoch 23/50\n",
      "67/67 [==============================] - 4s 67ms/step - loss: 0.0054 - accuracy: 0.9525 - val_loss: 0.0048 - val_accuracy: 0.9547 - lr: 6.4404e-04\n",
      "Epoch 24/50\n",
      "67/67 [==============================] - 4s 66ms/step - loss: 0.0056 - accuracy: 0.9523 - val_loss: 0.0049 - val_accuracy: 0.9522 - lr: 6.3128e-04\n",
      "Epoch 25/50\n",
      "67/67 [==============================] - 4s 66ms/step - loss: 0.0053 - accuracy: 0.9518 - val_loss: 0.0054 - val_accuracy: 0.9532 - lr: 6.1878e-04\n",
      "Epoch 26/50\n",
      "67/67 [==============================] - 4s 66ms/step - loss: 0.0052 - accuracy: 0.9523 - val_loss: 0.0048 - val_accuracy: 0.9558 - lr: 6.0653e-04\n",
      "Epoch 27/50\n",
      "67/67 [==============================] - 4s 66ms/step - loss: 0.0050 - accuracy: 0.9518 - val_loss: 0.0044 - val_accuracy: 0.9535 - lr: 5.9452e-04\n",
      "Epoch 28/50\n",
      "67/67 [==============================] - 4s 66ms/step - loss: 0.0048 - accuracy: 0.9511 - val_loss: 0.0047 - val_accuracy: 0.9519 - lr: 5.8275e-04\n",
      "Epoch 29/50\n",
      "67/67 [==============================] - 4s 66ms/step - loss: 0.0050 - accuracy: 0.9512 - val_loss: 0.0045 - val_accuracy: 0.9531 - lr: 5.7121e-04\n",
      "Epoch 30/50\n",
      "67/67 [==============================] - 4s 67ms/step - loss: 0.0048 - accuracy: 0.9505 - val_loss: 0.0045 - val_accuracy: 0.9529 - lr: 5.5990e-04\n",
      "Epoch 31/50\n",
      "67/67 [==============================] - 5s 69ms/step - loss: 0.0048 - accuracy: 0.9509 - val_loss: 0.0042 - val_accuracy: 0.9516 - lr: 5.4881e-04\n",
      "Epoch 32/50\n",
      "67/67 [==============================] - 5s 67ms/step - loss: 0.0047 - accuracy: 0.9507 - val_loss: 0.0050 - val_accuracy: 0.9533 - lr: 5.3794e-04\n",
      "Epoch 33/50\n",
      "67/67 [==============================] - 5s 69ms/step - loss: 0.0047 - accuracy: 0.9508 - val_loss: 0.0043 - val_accuracy: 0.9520 - lr: 5.2729e-04\n",
      "Epoch 34/50\n",
      "67/67 [==============================] - 4s 66ms/step - loss: 0.0046 - accuracy: 0.9504 - val_loss: 0.0040 - val_accuracy: 0.9508 - lr: 5.1685e-04\n",
      "Epoch 35/50\n",
      "67/67 [==============================] - 4s 67ms/step - loss: 0.0045 - accuracy: 0.9501 - val_loss: 0.0041 - val_accuracy: 0.9552 - lr: 5.0662e-04\n",
      "Epoch 36/50\n",
      "67/67 [==============================] - 4s 66ms/step - loss: 0.0044 - accuracy: 0.9502 - val_loss: 0.0042 - val_accuracy: 0.9516 - lr: 5.0000e-04\n",
      "Epoch 37/50\n",
      "67/67 [==============================] - 4s 67ms/step - loss: 0.0045 - accuracy: 0.9501 - val_loss: 0.0039 - val_accuracy: 0.9508 - lr: 5.0000e-04\n",
      "Epoch 38/50\n",
      "67/67 [==============================] - 4s 67ms/step - loss: 0.0044 - accuracy: 0.9502 - val_loss: 0.0039 - val_accuracy: 0.9536 - lr: 5.0000e-04\n",
      "Epoch 39/50\n",
      "67/67 [==============================] - 4s 67ms/step - loss: 0.0044 - accuracy: 0.9498 - val_loss: 0.0039 - val_accuracy: 0.9530 - lr: 5.0000e-04\n",
      "Epoch 40/50\n",
      "67/67 [==============================] - 4s 66ms/step - loss: 0.0044 - accuracy: 0.9500 - val_loss: 0.0040 - val_accuracy: 0.9508 - lr: 5.0000e-04\n",
      "Epoch 41/50\n",
      "67/67 [==============================] - 5s 69ms/step - loss: 0.0044 - accuracy: 0.9497 - val_loss: 0.0043 - val_accuracy: 0.9520 - lr: 5.0000e-04\n",
      "Epoch 42/50\n",
      "67/67 [==============================] - 5s 69ms/step - loss: 0.0045 - accuracy: 0.9499 - val_loss: 0.0040 - val_accuracy: 0.9517 - lr: 5.0000e-04\n",
      "Epoch 43/50\n",
      "67/67 [==============================] - 4s 67ms/step - loss: 0.0044 - accuracy: 0.9495 - val_loss: 0.0038 - val_accuracy: 0.9519 - lr: 5.0000e-04\n",
      "Epoch 44/50\n",
      "67/67 [==============================] - 4s 66ms/step - loss: 0.0042 - accuracy: 0.9497 - val_loss: 0.0036 - val_accuracy: 0.9526 - lr: 5.0000e-04\n",
      "Epoch 45/50\n",
      "67/67 [==============================] - 4s 65ms/step - loss: 0.0043 - accuracy: 0.9493 - val_loss: 0.0041 - val_accuracy: 0.9499 - lr: 5.0000e-04\n",
      "Epoch 46/50\n",
      "67/67 [==============================] - 5s 70ms/step - loss: 0.0044 - accuracy: 0.9498 - val_loss: 0.0040 - val_accuracy: 0.9465 - lr: 5.0000e-04\n",
      "Epoch 47/50\n",
      "67/67 [==============================] - 5s 68ms/step - loss: 0.0043 - accuracy: 0.9499 - val_loss: 0.0036 - val_accuracy: 0.9489 - lr: 5.0000e-04\n",
      "Epoch 48/50\n",
      "67/67 [==============================] - 4s 67ms/step - loss: 0.0042 - accuracy: 0.9495 - val_loss: 0.0038 - val_accuracy: 0.9512 - lr: 5.0000e-04\n",
      "Epoch 49/50\n",
      "67/67 [==============================] - 5s 68ms/step - loss: 0.0040 - accuracy: 0.9493 - val_loss: 0.0036 - val_accuracy: 0.9492 - lr: 5.0000e-04\n",
      "Epoch 50/50\n",
      "67/67 [==============================] - 4s 66ms/step - loss: 0.0042 - accuracy: 0.9491 - val_loss: 0.0039 - val_accuracy: 0.9460 - lr: 5.0000e-04\n"
     ]
    }
   ],
   "source": [
    "prediction=model.fit(x_train,x_train,epochs=50,batch_size=256, callbacks=callback_list,validation_data=(x_test,x_test))"
   ]
  },
  {
   "cell_type": "code",
   "execution_count": 24,
   "metadata": {},
   "outputs": [
    {
     "name": "stdout",
     "output_type": "stream",
     "text": [
      "INFO:tensorflow:Assets written to: Sound_two_speakers\\assets\n"
     ]
    }
   ],
   "source": [
    "model.save('Sound_two_speakers')"
   ]
  },
  {
   "cell_type": "code",
   "execution_count": 115,
   "metadata": {},
   "outputs": [
    {
     "data": {
      "text/plain": [
       "[<matplotlib.lines.Line2D at 0x200381a4cd0>]"
      ]
     },
     "execution_count": 115,
     "metadata": {},
     "output_type": "execute_result"
    },
    {
     "data": {
      "image/png": "[encoded data removed]",
      "text/plain": [
       "<Figure size 432x288 with 1 Axes>"
      ]
     },
     "metadata": {
      "needs_background": "light"
     },
     "output_type": "display_data"
    }
   ],
   "source": [
    "plt.plot(prediction.history[\"loss\"])"
   ]
  },
  {
   "cell_type": "code",
   "execution_count": 84,
   "metadata": {},
   "outputs": [
    {
     "name": "stdout",
     "output_type": "stream",
     "text": [
      "94/94 [==============================] - 1s 7ms/step - loss: 0.4999 - accuracy: 0.9224\n",
      "Loss = 0.4999387264251709\n",
      "Test Accuracy = 0.9224062561988831\n"
     ]
    }
   ],
   "source": [
    "preds = model.evaluate(x_test, x_test)\n",
    "print (\"Loss = \" + str(preds[0]))\n",
    "print (\"Test Accuracy = \" + str(preds[1]))"
   ]
  },
  {
   "cell_type": "code",
   "execution_count": 25,
   "metadata": {},

   "source": [
    "tf.config.run_functions_eagerly(False)\n",
    "NN=200\n",
    "X_dataa=X_data[NN]\n",
    "X_dataa=X_dataa.reshape(1,64,3)\n",
    "print(X_dataa.shape)\n",
    "q=model.predict(X_dataa)\n",
    "# mse = tf.keras.losses.MeanAbsoluteError()\n",
    "# error=mse(q, Y_data[NN]).numpy\n",
    "# print(error)\n",
    "# print(q)\n",
    "print(q-X_data[NN])\n",
    "# data_y_print=Y_data[NN]\n",
    "# print(data_y_print)"
   ]
  },
  {
   "cell_type": "code",
   "execution_count": null,
   "metadata": {},
   "outputs": [],
   "source": [
    "writer=pd.ExcelWriter(\"data.xlsx\")\n"
   ]
  },
  {
   "cell_type": "code",
   "execution_count": null,
   "metadata": {},
   "outputs": [],
   "source": [
    "df1 = pd.DataFrame (q.T)\n",
    "df2 = pd.DataFrame (data_y_print.T)\n"
   ]
  },
  {
   "cell_type": "code",
   "execution_count": null,
   "metadata": {},
   "outputs": [],
   "source": [
    "df1.to_excel(writer,sheet_name='predicted', index=['C'])\n",
    "df2.to_excel(writer,sheet_name='actual' , index=['C'])"
   ]
  },
  {
   "cell_type": "code",
   "execution_count": null,
   "metadata": {},
   "outputs": [],
   "source": [
    "writer.save()"
   ]
  }
 ],
 "metadata": {
  "interpreter": {
   "hash": "3523a396672f5aa74d0ca7efbc5200bb5adbcd905681922dc84f6183b6dba551"
  },
  "kernelspec": {
   "display_name": "Python 3.10.2 64-bit",
   "language": "python",
   "name": "python3"
  },
  "language_info": {
   "codemirror_mode": {
    "name": "ipython",
    "version": 3
   },
   "file_extension": ".py",
   "mimetype": "text/x-python",
   "name": "python",
   "nbconvert_exporter": "python",
   "pygments_lexer": "ipython3",
   "version": "3.10.2"
  },
  "orig_nbformat": 4
 },
 "nbformat": 4,
 "nbformat_minor": 2
}
